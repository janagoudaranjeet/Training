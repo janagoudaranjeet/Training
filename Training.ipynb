{
 "cells": [
  {
   "cell_type": "code",
   "execution_count": 18,
   "id": "1d7420a9",
   "metadata": {},
   "outputs": [
    {
     "name": "stdout",
     "output_type": "stream",
     "text": [
      "Hello Ranjeet\n"
     ]
    }
   ],
   "source": [
    "print ('Hello Ranjeet')"
   ]
  },
  {
   "cell_type": "code",
   "execution_count": 19,
   "id": "43a4bf07",
   "metadata": {},
   "outputs": [
    {
     "name": "stdout",
     "output_type": "stream",
     "text": [
      "10\n",
      "Ranjeet\n"
     ]
    }
   ],
   "source": [
    "x=10\n",
    "y=\"Ranjeet\"\n",
    "print (x)\n",
    "print (y)"
   ]
  },
  {
   "cell_type": "code",
   "execution_count": 20,
   "id": "ad9b93d0",
   "metadata": {},
   "outputs": [
    {
     "name": "stdout",
     "output_type": "stream",
     "text": [
      "10 Ranjeet\n"
     ]
    }
   ],
   "source": [
    "print (x, y)"
   ]
  },
  {
   "cell_type": "code",
   "execution_count": 21,
   "id": "2b04c389",
   "metadata": {},
   "outputs": [
    {
     "name": "stdout",
     "output_type": "stream",
     "text": [
      "The value of x is =  10 Ranjeet\n"
     ]
    }
   ],
   "source": [
    "#The value of x is = 10 & y.\n",
    "print ('The value of x is = ', x,y)"
   ]
  },
  {
   "cell_type": "code",
   "execution_count": 22,
   "id": "8ab0396c",
   "metadata": {},
   "outputs": [
    {
     "name": "stdout",
     "output_type": "stream",
     "text": [
      "The value of x is 10 and y is Ranjeet\n"
     ]
    }
   ],
   "source": [
    "#The value of x is 10 and y is Ranjeet.\n",
    "#sign indidates a comment that is a non executable statement.\n",
    "#print() used to diplay specified message \n",
    "print ('The value of x is', x, 'and y is', y)"
   ]
  },
  {
   "cell_type": "code",
   "execution_count": 23,
   "id": "babc386e",
   "metadata": {},
   "outputs": [
    {
     "name": "stdout",
     "output_type": "stream",
     "text": [
      "<class 'int'>\n"
     ]
    }
   ],
   "source": [
    "#Data type: Int or integer is a whole number, positive or negative, without decimals, of unlimited length.\n",
    "print (type(x))"
   ]
  },
  {
   "cell_type": "code",
   "execution_count": 24,
   "id": "a5e0f1c1",
   "metadata": {},
   "outputs": [
    {
     "name": "stdout",
     "output_type": "stream",
     "text": [
      "<class 'float'>\n"
     ]
    }
   ],
   "source": [
    "#Data type: Float is used to return a floating-point number from a number.\n",
    "b = 10.5\n",
    "print (type(b))"
   ]
  },
  {
   "cell_type": "code",
   "execution_count": 25,
   "id": "e3295eaa",
   "metadata": {},
   "outputs": [
    {
     "name": "stdout",
     "output_type": "stream",
     "text": [
      "<class 'bool'>\n"
     ]
    }
   ],
   "source": [
    "#Data type: Bool returns the boolean value of a specified object, i.e., True or False.\n",
    "b = True\n",
    "print (type(b))"
   ]
  },
  {
   "cell_type": "code",
   "execution_count": 26,
   "id": "57ea522b",
   "metadata": {},
   "outputs": [
    {
     "name": "stdout",
     "output_type": "stream",
     "text": [
      "<class 'tuple'>\n"
     ]
    }
   ],
   "source": [
    "#Tuple: Used to store multiple items in a single variable.\n",
    "t = 10, 5\n",
    "print (type(t))"
   ]
  },
  {
   "cell_type": "code",
   "execution_count": null,
   "id": "845c801b",
   "metadata": {},
   "outputs": [],
   "source": []
  },
  {
   "cell_type": "code",
   "execution_count": null,
   "id": "2757fd5b",
   "metadata": {},
   "outputs": [],
   "source": []
  }
 ],
 "metadata": {
  "kernelspec": {
   "display_name": "Python 3 (ipykernel)",
   "language": "python",
   "name": "python3"
  },
  "language_info": {
   "codemirror_mode": {
    "name": "ipython",
    "version": 3
   },
   "file_extension": ".py",
   "mimetype": "text/x-python",
   "name": "python",
   "nbconvert_exporter": "python",
   "pygments_lexer": "ipython3",
   "version": "3.9.12"
  }
 },
 "nbformat": 4,
 "nbformat_minor": 5
}
